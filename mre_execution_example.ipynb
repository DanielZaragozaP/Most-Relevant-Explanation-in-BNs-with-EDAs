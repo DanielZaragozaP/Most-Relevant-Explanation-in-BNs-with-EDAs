{
 "cells": [
  {
   "cell_type": "code",
   "execution_count": 1,
   "metadata": {},
   "outputs": [],
   "source": [
    "# Imports\n",
    "from pgmpy.readwrite import BIFReader\n",
    "import numpy as np\n",
    "import pandas as pd\n",
    "from pgmpy.models import BayesianNetwork\n",
    "from pgmpy.inference import VariableElimination\n",
    "from itertools import product\n",
    "from EDAspy.optimization import UMDAcat\n",
    "import random\n",
    "import warnings\n",
    "import logging\n",
    "import time\n",
    "import json\n",
    "import mre"
   ]
  },
  {
   "cell_type": "code",
   "execution_count": 2,
   "metadata": {},
   "outputs": [],
   "source": [
    "# Import the Bayesian Network as a BIF file\n",
    "reader = BIFReader(\"asia.bif\")\n",
    "model = reader.get_model()"
   ]
  },
  {
   "cell_type": "code",
   "execution_count": 3,
   "metadata": {},
   "outputs": [
    {
     "name": "stdout",
     "output_type": "stream",
     "text": [
      "['dysp']\n",
      "['asia', 'smoke', 'bronc', 'either', 'lung', 'tub', 'xray']\n"
     ]
    }
   ],
   "source": [
    "# Generating a example of target and evidence\n",
    "leaves = model.get_leaves()\n",
    "rest =  [x for x in model.states.keys()  if x not in leaves]\n",
    "leaves.remove('xray')\n",
    "rest.append('xray')\n",
    "print(leaves)\n",
    "print(rest)\n",
    "warnings.filterwarnings(\"ignore\")\n",
    "logger = logging.getLogger(\"pgmpy\")\n",
    "logger.setLevel(logging.ERROR)\n",
    "target_names = random.sample(rest,7)\n",
    "sim = model.simulate(1,show_progress=False)\n",
    "evidence_values = sim[leaves].values.tolist()[0]\n",
    "evidence = {n:v for n,v in zip(leaves,evidence_values)}\n",
    "d = {'target':target_names,'evidence':evidence}"
   ]
  },
  {
   "cell_type": "code",
   "execution_count": 4,
   "metadata": {},
   "outputs": [
    {
     "name": "stdout",
     "output_type": "stream",
     "text": [
      "{'target': ['tub', 'lung', 'smoke', 'bronc', 'asia', 'either', 'xray'], 'evidence': {'dysp': 'yes'}}\n"
     ]
    }
   ],
   "source": [
    "# Example generated\n",
    "print(d)"
   ]
  },
  {
   "cell_type": "code",
   "execution_count": 5,
   "metadata": {},
   "outputs": [
    {
     "name": "stdout",
     "output_type": "stream",
     "text": [
      "\tNFEVALS = 1250 F = -6.13911376554596\n",
      "\tX = ['None' 'None' 'None' 'yes' 'None' 'None' 'None']\n",
      "{'sol': {'bronc': 'yes'}, 'gbf': 6.13911376554596, 'time': 3.720635414123535}\n"
     ]
    }
   ],
   "source": [
    "s = time.time()\n",
    "sol,gbf,_ = mre.UMDAcat_mre2(model,d['evidence'],d['target'],size_gen=50,dead_iter=20,verbose=False,alpha=0.8,best_init=True)\n",
    "e = time.time()\n",
    "print({'sol':sol,'gbf':gbf,'time':e-s})"
   ]
  },
  {
   "cell_type": "code",
   "execution_count": 6,
   "metadata": {},
   "outputs": [
    {
     "name": "stdout",
     "output_type": "stream",
     "text": [
      "{'sol': {'bronc': 'yes'}, 'gbf': 6.13911376554596, 'time': 14.431693315505981}\n"
     ]
    }
   ],
   "source": [
    "s = time.time()\n",
    "sol,gbf = mre.dea_mre(model,d['evidence'],d['target'],50,5000)\n",
    "e = time.time()\n",
    "print({'sol':sol,'gbf':gbf,'time':e-s})"
   ]
  },
  {
   "cell_type": "code",
   "execution_count": 7,
   "metadata": {},
   "outputs": [
    {
     "name": "stdout",
     "output_type": "stream",
     "text": [
      "\tNFEVALS = 1250 F = -6.13911376554596\n",
      "\tX = ['None' 'None' 'None' 'yes' 'None' 'None' 'None']\n",
      "{'sol': {'bronc': 'yes'}, 'gbf': 6.13911376554596, 'time': 21.77213454246521}\n"
     ]
    }
   ],
   "source": [
    "s = time.time()\n",
    "sol,gbf,_ = mre.ebna_mre(model,d['evidence'],d['target'],size_gen=50,dead_iter=20,verbose=False,alpha=0.8,best_init=True)\n",
    "e = time.time()\n",
    "print({'sol':sol,'gbf':gbf,'time':e-s})"
   ]
  },
  {
   "cell_type": "code",
   "execution_count": 8,
   "metadata": {},
   "outputs": [
    {
     "name": "stdout",
     "output_type": "stream",
     "text": [
      "{'sol': {'bronc': 'yes'}, 'gbf': 6.13911376554596, 'time': 2.8021738529205322}\n"
     ]
    }
   ],
   "source": [
    "s = time.time()\n",
    "sol,gbf = mre.es_mre(model,d['evidence'],d['target'],50,5000)\n",
    "e = time.time()\n",
    "print({'sol':sol,'gbf':gbf,'time':e-s})"
   ]
  },
  {
   "cell_type": "code",
   "execution_count": 9,
   "metadata": {},
   "outputs": [
    {
     "name": "stdout",
     "output_type": "stream",
     "text": [
      "{'sol': {'bronc': 'yes'}, 'gbf': 6.13911376554596, 'time': 10.982860565185547}\n"
     ]
    }
   ],
   "source": [
    "s = time.time()\n",
    "sol,gbf = mre.ga_mre(model,d['evidence'],d['target'],50,5000)\n",
    "e = time.time()\n",
    "print({'sol':sol,'gbf':gbf,'time':e-s})"
   ]
  },
  {
   "cell_type": "code",
   "execution_count": 10,
   "metadata": {},
   "outputs": [
    {
     "name": "stdout",
     "output_type": "stream",
     "text": [
      "{'sol': {'bronc': 'yes'}, 'gbf': 6.13911376554596, 'time': 2.766510486602783}\n"
     ]
    }
   ],
   "source": [
    "s = time.time()\n",
    "sol,gbf = mre.hierarchical_beam_search(model,d['evidence'],d['target'],5,1+1e-08,10,2)\n",
    "e = time.time()\n",
    "print({'sol':sol,'gbf':gbf,'time':e-s})"
   ]
  },
  {
   "cell_type": "code",
   "execution_count": 11,
   "metadata": {},
   "outputs": [
    {
     "name": "stdout",
     "output_type": "stream",
     "text": [
      "[[-6.13911377]\n",
      " [-6.13911377]\n",
      " [-6.13911377]\n",
      " [-6.13911377]\n",
      " [-6.13911377]\n",
      " [-6.13911377]\n",
      " [-6.13911377]\n",
      " [-6.13911377]\n",
      " [-6.13911377]\n",
      " [-6.13911377]\n",
      " [-6.13911377]\n",
      " [-6.13911377]\n",
      " [-6.13911377]\n",
      " [-6.13911377]\n",
      " [-6.13911377]\n",
      " [-6.13911377]\n",
      " [-6.13911377]\n",
      " [-6.13911377]\n",
      " [-6.13911377]\n",
      " [-6.13911377]\n",
      " [-6.13911377]\n",
      " [-6.13911377]\n",
      " [-6.13911377]\n",
      " [-6.13911377]\n",
      " [-6.13911377]\n",
      " [-6.13911377]\n",
      " [-6.13911377]\n",
      " [-6.13911377]\n",
      " [-6.13911377]\n",
      " [-6.13911377]\n",
      " [-6.13911377]\n",
      " [-6.13911377]\n",
      " [-6.13911377]\n",
      " [-6.13911377]\n",
      " [-6.13911377]\n",
      " [-6.13911377]\n",
      " [-6.13911377]\n",
      " [-6.13911377]\n",
      " [-6.13911377]\n",
      " [-6.13911377]\n",
      " [-6.13911377]\n",
      " [-6.13911377]\n",
      " [-6.13911377]\n",
      " [-6.13911377]\n",
      " [-6.13911377]\n",
      " [-6.13911377]\n",
      " [-6.13911377]\n",
      " [-6.13911377]\n",
      " [-6.13911377]\n",
      " [-6.13911377]]\n",
      "{'sol': {'bronc': 'yes'}, 'gbf': 6.13911376554596, 'time': 1.6389844417572021}\n"
     ]
    }
   ],
   "source": [
    "s = time.time()\n",
    "sol,gbf = mre.nsga2_mre(model,d['evidence'],d['target'],pop_size=50,n_gen=50,best_init=True,period=10)\n",
    "e = time.time()\n",
    "print({'sol':sol,'gbf':gbf,'time':e-s})"
   ]
  },
  {
   "cell_type": "code",
   "execution_count": 12,
   "metadata": {},
   "outputs": [
    {
     "name": "stdout",
     "output_type": "stream",
     "text": [
      "{'sol': {'bronc': 'yes'}, 'gbf': 6.13911376554596, 'time': 12.001469612121582}\n"
     ]
    }
   ],
   "source": [
    "s = time.time()\n",
    "sol,gbf = mre.pso_mre(model,d['evidence'],d['target'],50,5000)\n",
    "e = time.time()\n",
    "print({'sol':sol,'gbf':gbf,'time':e-s})"
   ]
  },
  {
   "cell_type": "code",
   "execution_count": 13,
   "metadata": {},
   "outputs": [
    {
     "name": "stdout",
     "output_type": "stream",
     "text": [
      "TERMINATING - REACHED MAXIMUM STEPS\n",
      "{'sol': {'bronc': 'yes'}, 'gbf': 6.13911376554596, 'time': 2.3226253986358643}\n"
     ]
    }
   ],
   "source": [
    "s = time.time()\n",
    "sol,gbf = mre.tabu_mre(model,d['evidence'],d['target'],200,30,more_targets=1)\n",
    "e = time.time()\n",
    "print({'sol':sol,'gbf':gbf,'time':e-s})"
   ]
  }
 ],
 "metadata": {
  "kernelspec": {
   "display_name": "mre",
   "language": "python",
   "name": "python3"
  },
  "language_info": {
   "codemirror_mode": {
    "name": "ipython",
    "version": 3
   },
   "file_extension": ".py",
   "mimetype": "text/x-python",
   "name": "python",
   "nbconvert_exporter": "python",
   "pygments_lexer": "ipython3",
   "version": "3.9.18"
  }
 },
 "nbformat": 4,
 "nbformat_minor": 2
}
